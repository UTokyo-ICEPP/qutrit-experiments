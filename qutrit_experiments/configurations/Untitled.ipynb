{
 "cells": [
  {
   "cell_type": "code",
   "execution_count": 5,
   "id": "794eeaa3-c5de-4fd5-9bbe-c7589b8ab68f",
   "metadata": {},
   "outputs": [],
   "source": [
    "from qiskit import QuantumCircuit, QuantumRegister, ClassicalRegister, transpile\n",
    "from qiskit_aer import AerSimulator"
   ]
  },
  {
   "cell_type": "code",
   "execution_count": 6,
   "id": "8ff2c8d3-d4b1-45c0-a47c-42634a09c785",
   "metadata": {},
   "outputs": [
    {
     "data": {
      "image/png": "[encoded data removed]",
      "text/plain": [
       "<Figure size 538.33x200.667 with 1 Axes>"
      ]
     },
     "execution_count": 6,
     "metadata": {},
     "output_type": "execute_result"
    }
   ],
   "source": [
    "qreg = QuantumRegister(1)\n",
    "creg = ClassicalRegister(2)\n",
    "circuit = QuantumCircuit(qreg, creg)\n",
    "\n",
    "circuit.sx(qreg[0])\n",
    "circuit.measure(qreg[0], creg[0])\n",
    "with circuit.if_test((creg[0], True)):\n",
    "    circuit.x(qreg[0])\n",
    "    circuit.measure(qreg[0], creg[1])\n",
    "\n",
    "circuit.draw('mpl')"
   ]
  },
  {
   "cell_type": "code",
   "execution_count": 9,
   "id": "7febb634-801e-4dba-85af-0cb63a0b67dd",
   "metadata": {},
   "outputs": [
    {
     "data": {
      "text/plain": [
       "{'00': 494, '01': 506}"
      ]
     },
     "execution_count": 9,
     "metadata": {},
     "output_type": "execute_result"
    }
   ],
   "source": [
    "simulator = AerSimulator()\n",
    "simulator.run(transpile(circuit, backend=simulator), shots=1000).result().get_counts()"
   ]
  },
  {
   "cell_type": "code",
   "execution_count": 10,
   "id": "aed44a22-ca97-4dfc-85d1-d83d453f043c",
   "metadata": {},
   "outputs": [
    {
     "data": {
      "text/plain": [
       "'0.45.1'"
      ]
     },
     "execution_count": 10,
     "metadata": {},
     "output_type": "execute_result"
    }
   ],
   "source": [
    "import qiskit\n",
    "qiskit.__version__"
   ]
  },
  {
   "cell_type": "code",
   "execution_count": null,
   "id": "336bf4a0-57cc-4d1e-9bfe-85b427e66985",
   "metadata": {},
   "outputs": [],
   "source": []
  }
 ],
 "metadata": {
  "kernelspec": {
   "display_name": "Python 3 (ipykernel)",
   "language": "python",
   "name": "python3"
  },
  "language_info": {
   "codemirror_mode": {
    "name": "ipython",
    "version": 3
   },
   "file_extension": ".py",
   "mimetype": "text/x-python",
   "name": "python",
   "nbconvert_exporter": "python",
   "pygments_lexer": "ipython3",
   "version": "3.10.12"
  }
 },
 "nbformat": 4,
 "nbformat_minor": 5
}
